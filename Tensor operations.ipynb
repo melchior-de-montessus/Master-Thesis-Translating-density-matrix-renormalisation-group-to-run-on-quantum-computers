{
 "cells": [
  {
   "cell_type": "code",
   "execution_count": 3,
   "metadata": {},
   "outputs": [],
   "source": [
    "import numpy as np\n",
    "from ncon import ncon\n",
    "\n",
    "#Indices dimension\n",
    "alpha = 2\n",
    "beta = 3\n",
    "gamma = 4\n",
    "\n",
    "#Genration of random tensors with indices alpha, beta and gamma\n",
    "A = np.random.rand(alpha,beta)\n",
    "B = np.random.rand(beta,gamma)\n",
    "\n",
    "#Index contraction\n",
    "C = ncon([A,B],[[-1,1],[1,-2]]) #Equivalent to equation 2.1 and 2.2\n",
    "\n",
    "#Tensor reshape\n",
    "A = np.random.rand(alpha,gamma,beta)\n",
    "A = np.reshape(A,(alpha,gamma*beta)) #Equivalent to equation 2.3"
   ]
  }
 ],
 "metadata": {
  "kernelspec": {
   "display_name": "Python 3",
   "language": "python",
   "name": "python3"
  },
  "language_info": {
   "codemirror_mode": {
    "name": "ipython",
    "version": 3
   },
   "file_extension": ".py",
   "mimetype": "text/x-python",
   "name": "python",
   "nbconvert_exporter": "python",
   "pygments_lexer": "ipython3",
   "version": "3.8.3"
  }
 },
 "nbformat": 4,
 "nbformat_minor": 4
}
