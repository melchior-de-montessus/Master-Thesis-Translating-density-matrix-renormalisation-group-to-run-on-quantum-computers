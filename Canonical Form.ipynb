{
 "cells": [
  {
   "cell_type": "code",
   "execution_count": 1,
   "metadata": {},
   "outputs": [],
   "source": [
    "import numpy as np\n",
    "from ncon import ncon\n",
    "import pandas as pd"
   ]
  },
  {
   "cell_type": "code",
   "execution_count": 2,
   "metadata": {},
   "outputs": [],
   "source": [
    "def Random_MPS(N,d,D) :\n",
    "    \"\"\"\"\"\n",
    "    MPS : tensor array\n",
    "    N : number of tensors in the MPS\n",
    "    d : physical dimension\n",
    "    D : Bond dimension\n",
    "    \"\"\"\"\"\n",
    "    MPS = []\n",
    "    MPS.append(np.random.rand(d,D))\n",
    "    for l in range(1,N-1):\n",
    "        MPS.append(np.random.rand(D,d,D))\n",
    "    MPS.append(np.random.rand(D,d))\n",
    "    return MPS"
   ]
  },
  {
   "cell_type": "code",
   "execution_count": 3,
   "metadata": {},
   "outputs": [],
   "source": [
    "import numpy as np\n",
    "from ncon import ncon\n",
    "\n",
    "def Left_Orthogonal_Form(MPS,d,D) :\n",
    "    \"\"\"\"\"\n",
    "    Inputs :\n",
    "        MPS : tensor array\n",
    "        d : physical dimension\n",
    "        D : bond dimension\n",
    "    Outputs :\n",
    "        Unitary_MPS : the MPS tensor array composed of unitaries U\n",
    "        R : the right environnment\n",
    "    \"\"\"\"\"\n",
    "    Unitary_MPS = []\n",
    "    N = len(MPS)\n",
    "    i = 0\n",
    "    while i < N :\n",
    "        if i == 0 :\n",
    "            #SVD on the left-most (rank-2) tensor\n",
    "            U,Sm,V = np.linalg.svd(MPS[i],full_matrices=True)\n",
    "            S = np.zeros((MPS[i].shape)) #Building the singular values into a tensor S\n",
    "            for j in range(min(MPS[i].shape)):\n",
    "                S[j, j] = Sm[j]\n",
    "            \n",
    "            Unitary_MPS.append(U)\n",
    "            i = i + 1\n",
    "        \n",
    "        if i == N-1 :\n",
    "            #SVD on the resulting right-most (rank-2) tensor\n",
    "            B_0 = ncon([S,V,MPS[i]],[[-1,1],[1,2],[2,-2]])\n",
    "            U,Sm,V = np.linalg.svd(B_0,full_matrices=True)\n",
    "            S = np.zeros((MPS[i].shape)) #Building the singular values into a tensor S\n",
    "            for j in range(min(MPS[i].shape)):\n",
    "                S[j, j] = Sm[j]\n",
    "\n",
    "            Unitary_MPS.append(U)\n",
    "            R = S\n",
    "            i = i + 1\n",
    "        \n",
    "        else :\n",
    "            #SVD on each of the (rank-3) MPS tensor\n",
    "            B_0 = ncon([S,V,MPS[i]],[[-1,1],[1,2],[2,-2,-3]])\n",
    "            B_1 = B_0.reshape(B_0.shape[0]*B_0.shape[1],B_0.shape[2])\n",
    "            U,Sm,V = np.linalg.svd(B_1,full_matrices=True)\n",
    "            \n",
    "            #Truncating S, when the bond dimensions reaches D to avoid infinite growth\n",
    "            if U.shape[1] > D :\n",
    "                U = U.reshape(D,d,D,d)\n",
    "                S = np.zeros((D,D))\n",
    "                for j in range(D):\n",
    "                    S[j, j] = Sm[j]       \n",
    "            else :\n",
    "                U = U.reshape(B_0.shape[0],B_0.shape[1],B_0.shape[0]*B_0.shape[1])\n",
    "                S = np.zeros((U.shape[2],D))\n",
    "                for j in range(U.shape[2]):\n",
    "                    S[j, j] = Sm[j]\n",
    "            \n",
    "            Unitary_MPS.append(U)\n",
    "            i = i + 1\n",
    "            \n",
    "    return Unitary_MPS,R"
   ]
  }
 ],
 "metadata": {
  "kernelspec": {
   "display_name": "Python 3",
   "language": "python",
   "name": "python3"
  },
  "language_info": {
   "codemirror_mode": {
    "name": "ipython",
    "version": 3
   },
   "file_extension": ".py",
   "mimetype": "text/x-python",
   "name": "python",
   "nbconvert_exporter": "python",
   "pygments_lexer": "ipython3",
   "version": "3.8.3"
  }
 },
 "nbformat": 4,
 "nbformat_minor": 4
}
