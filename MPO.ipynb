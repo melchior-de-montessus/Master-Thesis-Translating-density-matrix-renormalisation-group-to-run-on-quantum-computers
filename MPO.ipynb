{
 "cells": [
  {
   "cell_type": "code",
   "execution_count": 1,
   "metadata": {},
   "outputs": [],
   "source": [
    "import numpy as np\n",
    "import matplotlib.pyplot as plt\n",
    "from scipy import integrate\n",
    "from ncon import ncon\n",
    "from scipy.linalg import polar\n",
    "from scipy.sparse.linalg import eigs\n",
    "from scipy.sparse.linalg import eigsh"
   ]
  },
  {
   "cell_type": "code",
   "execution_count": 2,
   "metadata": {},
   "outputs": [],
   "source": [
    "def W_Ising(J,g):\n",
    "    #Pauli and identity matrices \n",
    "    sx = 0.5*np.array([[0,1],[1,0]])  #Pauli x\n",
    "    sz = 0.5*np.array([[1,0],[0,-1]]) #Pauli z\n",
    "    I = np.eye(2)                     #Identity\n",
    "    \n",
    "    #Constructing the MPO at one site\n",
    "    W = np.zeros((3,2,3,2))\n",
    "    W[0,:,0,:] = I\n",
    "    W[1,:,0,:] = sz\n",
    "    W[2,:,0,:] = -g*sx\n",
    "    W[2,:,1,:] = -J*sz\n",
    "    W[2,:,2,:] = I\n",
    "    return W"
   ]
  },
  {
   "cell_type": "code",
   "execution_count": 3,
   "metadata": {},
   "outputs": [],
   "source": [
    "def W_XY():\n",
    "    #Spin-1/2 operators and the identity\n",
    "    su = np.array([[0,1],[0,0]])  #spin up\n",
    "    sd = np.array([[0,0],[1,0]])  #spin down\n",
    "    I = np.eye(2)                 #Identity\n",
    "\n",
    "    #Constructing the MPO at one site\n",
    "    W = np.zeros((4,2,4,2))\n",
    "    W[0,:,0,:] = I\n",
    "    W[1,:,0,:] = sd\n",
    "    W[2,:,0,:] = su\n",
    "    W[3,:,1,:] = -0.5*su\n",
    "    W[3,:,2,:] = -0.5*sd\n",
    "    W[3,:,3,:] = I\n",
    "    \n",
    "    return W"
   ]
  },
  {
   "cell_type": "code",
   "execution_count": 5,
   "metadata": {},
   "outputs": [],
   "source": [
    "def Nsite_MPO(W,Nsites):\n",
    "    \"\"\"\"\"\n",
    "    Inputs :\n",
    "        W : MPO at one site\n",
    "        Nsites : number of desired sites\n",
    "    Outputs :\n",
    "        MPO : The N-site MPO\n",
    "    \"\"\"\"\"\n",
    "    #Produce the N-site MPO\n",
    "    N = Nsites - 1\n",
    "    MPO = [W for l in range(Nsites)]\n",
    "    \n",
    "    #Construct the states on the left and right side\n",
    "    D_MPO = W.shape[0] #Bond dimension of the MPO\n",
    "    state_0 = np.zeros((D_MPO,1))\n",
    "    state_0[0,0] = 1\n",
    "    state_1 = np.zeros((D_MPO,1))\n",
    "    state_1[D_MPO-1,0] = 1\n",
    "    \n",
    "    #Modify the left- and right-most MPO site by contracting them with our states\n",
    "    MPO[0] = ncon([MPO[0],state_0.T],[[1,-1,-2,-3],[-4,1]])\n",
    "    MPO[0] = MPO[0].reshape(MPO[0].shape[0],MPO[0].shape[1],MPO[0].shape[2])\n",
    "    MPO[N] = ncon([MPO[N],state_1],[[-1,-2,1,-3],[1,-4]])\n",
    "    MPO[N] = MPO[N].reshape(MPO[N].shape[0],MPO[N].shape[1],MPO[N].shape[2])\n",
    "    \n",
    "    return MPO"
   ]
  }
 ],
 "metadata": {
  "kernelspec": {
   "display_name": "Python 3",
   "language": "python",
   "name": "python3"
  },
  "language_info": {
   "codemirror_mode": {
    "name": "ipython",
    "version": 3
   },
   "file_extension": ".py",
   "mimetype": "text/x-python",
   "name": "python",
   "nbconvert_exporter": "python",
   "pygments_lexer": "ipython3",
   "version": "3.8.3"
  }
 },
 "nbformat": 4,
 "nbformat_minor": 4
}
