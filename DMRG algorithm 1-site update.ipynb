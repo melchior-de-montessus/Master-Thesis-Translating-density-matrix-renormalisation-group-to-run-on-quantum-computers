{
 "cells": [
  {
   "cell_type": "code",
   "execution_count": 1,
   "metadata": {},
   "outputs": [],
   "source": [
    "import numpy as np\n",
    "import matplotlib.pyplot as plt\n",
    "from scipy import integrate\n",
    "from ncon import ncon\n",
    "from scipy.linalg import polar\n",
    "from scipy.sparse.linalg import eigs\n",
    "from scipy.sparse.linalg import eigsh"
   ]
  },
  {
   "cell_type": "code",
   "execution_count": 2,
   "metadata": {},
   "outputs": [],
   "source": [
    "def W_Ising(J,g):\n",
    "    #Pauli and identity matrices \n",
    "    sx = 0.5*np.array([[0,1],[1,0]])  #Pauli x\n",
    "    sz = 0.5*np.array([[1,0],[0,-1]]) #Pauli z\n",
    "    I = np.eye(2)                     #Identity\n",
    "    \n",
    "    #Constructing the MPO at one site\n",
    "    W = np.zeros((3,2,3,2))\n",
    "    W[0,:,0,:] = I\n",
    "    W[1,:,0,:] = sz\n",
    "    W[2,:,0,:] = -g*sx\n",
    "    W[2,:,1,:] = -J*sz\n",
    "    W[2,:,2,:] = I\n",
    "    return W"
   ]
  },
  {
   "cell_type": "code",
   "execution_count": 19,
   "metadata": {},
   "outputs": [],
   "source": [
    "def W_XY():\n",
    "    #Spin-1/2 operators and the identity\n",
    "    su = np.array([[0,1],[0,0]])  #spin up\n",
    "    sd = np.array([[0,0],[1,0]])  #spin down\n",
    "    I = np.eye(2)                 #Identity\n",
    "\n",
    "    #Constructing the MPO at one site\n",
    "    W = np.zeros((4,2,4,2))\n",
    "    W[0,:,0,:] = I\n",
    "    W[1,:,0,:] = sd\n",
    "    W[2,:,0,:] = su\n",
    "    W[3,:,1,:] = -0.5*su\n",
    "    W[3,:,2,:] = -0.5*sd\n",
    "    W[3,:,3,:] = I\n",
    "    \n",
    "    return W"
   ]
  },
  {
   "cell_type": "code",
   "execution_count": 20,
   "metadata": {},
   "outputs": [],
   "source": [
    "def Nsite_MPO(W,Nsites):\n",
    "    \"\"\"\"\"\n",
    "    Inputs :\n",
    "        W : MPO at one site\n",
    "        Nsites : number of desired sites\n",
    "    Outputs :\n",
    "        MPO : The N-site MPO\n",
    "    \"\"\"\"\"\n",
    "    #Produce the N-site MPO\n",
    "    N = Nsites - 1\n",
    "    MPO = [W for l in range(Nsites)]\n",
    "    \n",
    "    #Construct the states on the left and right side\n",
    "    D_MPO = W.shape[0] #Bond dimension of the MPO\n",
    "    state_0 = np.zeros((D_MPO,1))\n",
    "    state_0[0,0] = 1\n",
    "    state_1 = np.zeros((D_MPO,1))\n",
    "    state_1[D_MPO-1,0] = 1\n",
    "    \n",
    "    #Modify the left- and right-most MPO site by contracting them with our states\n",
    "    MPO[0] = ncon([MPO[0],state_1.T],[[1,-1,-2,-3],[-4,1]])\n",
    "    MPO[0] = MPO[0].reshape(MPO[0].shape[0],MPO[0].shape[1],MPO[0].shape[2])\n",
    "    MPO[N] = ncon([MPO[N],state_0],[[-1,-2,1,-3],[1,-4]])\n",
    "    MPO[N] = MPO[N].reshape(MPO[N].shape[0],MPO[N].shape[1],MPO[N].shape[2])\n",
    "    \n",
    "    return MPO"
   ]
  },
  {
   "cell_type": "code",
   "execution_count": 21,
   "metadata": {},
   "outputs": [],
   "source": [
    "def Expectation_Value_2site_operator(U,operator) :\n",
    "    \"\"\"\"\"\n",
    "    Inputs :\n",
    "        U : local unitary tensor\n",
    "        operator : two-site operator \n",
    "    Outputs :\n",
    "        Expectation_Value : Expectation value of the operator\n",
    "    \"\"\"\"\"\n",
    "    \n",
    "    #Computing the Right Environment\n",
    "    \"\"\"\"\"\n",
    "    _-1_ U _-3_ __             \n",
    "         |                      \n",
    "         1                      \n",
    "         |                   _ _1_   _3_ _\n",
    "         |                =  _ _2_ M _4_ _\n",
    "         |                      \n",
    "         1                      \n",
    "         |                      \n",
    "    _-2_ Uh _-4_ _             \n",
    "    \"\"\"\"\"\n",
    "    \n",
    "    Uh = np.conj(U)\n",
    "    \n",
    "    #Compute the transfer matrix\n",
    "    M = ncon([U,Uh],[[-1,1,-3],[-2,1,-4]])\n",
    "    E = M.reshape(M.shape[0]*M.shape[1],M.shape[2]*M.shape[3])\n",
    "    \n",
    "    #Solve the fixed-point equation\n",
    "    eigenvalue, eigenvector = eigs(E,k=1,which=\"LM\")\n",
    "    \n",
    "    #Determine R\n",
    "    R = eigenvector.reshape(M.shape[0],M.shape[1])\n",
    "    R = R/np.trace(R) #Trace normalised\n",
    "    \n",
    "    #Find the Expectation value\n",
    "    \"\"\"\"\"\n",
    "     _ _ _1_ U _3_ _ _3_ U _5_ _ _        \n",
    "    |        |           |        |    \n",
    "    |        2           4        |\n",
    "    |        |           |        |  \n",
    "    |        2           4        5    \n",
    "    |        |           |        |             \n",
    "    |        OOOOOOOOOOOOO        R           \n",
    "    |        |           |        |   \n",
    "    |        6           8        9              \n",
    "    |        |           |        |             \n",
    "    |        6           8        |              \n",
    "    |        |           |        |   \n",
    "    |_ _ _1_ Uh _7__ _7_ Uh _9__ _|     \n",
    "    \"\"\"\"\" \n",
    "    \n",
    "    Expectation_Value = ncon([U,Uh,U,Uh,operator,R],\\\n",
    "                            [[1,2,3],[1,6,7],[3,4,5],[7,8,9],[2,6,4,8],[5,9]])\n",
    "    \n",
    "    return Expectation_Value"
   ]
  },
  {
   "cell_type": "code",
   "execution_count": 22,
   "metadata": {},
   "outputs": [],
   "source": [
    "def Eigenvalue_Equation_Optimizer(W, L, R, alpha):\n",
    "    \"\"\"\"\"\n",
    "    Inputs :\n",
    "        W : MPO at one site\n",
    "        L : MPO left environment\n",
    "        R : MPO right environment\n",
    "        alpha : value used for spectrum shift\n",
    "    Outputs :\n",
    "        U_opt : Optimised tensor\n",
    "    \"\"\"\"\"\n",
    "    D_MPS = L.shape[0]\n",
    "    d = W.shape[1]\n",
    "    \n",
    "    #Contract into a matrix E\n",
    "    E = ncon([L,R,W],[[-1,1,-4],[-3,2,-6],[1,-2,2,-5]])\n",
    "    E = E.reshape(D_MPS*d*D_MPS,D_MPS*d*D_MPS)\n",
    "    \n",
    "    #Spectrum shift\n",
    "    E = E + alpha*np.eye(D_MPS*d*D_MPS)\n",
    "    \n",
    "    #Solve eigenvalue equation for eigenvector with lowest eigenvalue\n",
    "    _ , vec = eigsh(E, k=1, which=\"LM\")\n",
    "    vec = vec.reshape(D_MPS*d,D_MPS)\n",
    "    \n",
    "    #Polar decomposition to ensure U is Unitary\n",
    "    U_opt, _ = polar(vec)\n",
    "    _,S,_ = np.linalg.svd(vec)\n",
    "    U_opt = U_opt.reshape(D_MPS,d,D_MPS)\n",
    "    \n",
    "    return U_opt"
   ]
  },
  {
   "cell_type": "code",
   "execution_count": 23,
   "metadata": {},
   "outputs": [],
   "source": [
    "def DMRG_1site_eigensolver(Nsites,W,D_MPS,alpha) :\n",
    "    \"\"\"\"\"\n",
    "    Inputs :\n",
    "        Nsites : Number of sites of the MPS (also the number of iteration)\n",
    "        W : MPO at one site\n",
    "        D_MPS : Desired bond dimension of translationnary invariant state\n",
    "        alpha : value used for spectrum shift\n",
    "    Outputs :\n",
    "        Energy : Array composed of the energy of the ground state after each iteration\n",
    "        U : Array composed of the translationnary invariant state after each iteration\n",
    "    \"\"\"\"\"\n",
    "    Energy = [] #Array recording the energy after each iteration\n",
    "    d = W.shape[1] #physical index\n",
    "    D_MPO = W.shape[0] #bond dimension of the MPO\n",
    "    N = Nsites - 1\n",
    "    U = [0 for x in range(N)] #Array recording our optimised state after each iteration\n",
    "    MPO = Nsite_MPO(W,Nsites) #Building the N-site MPO from W\n",
    "   \n",
    "    operator = ncon([MPO[0],MPO[N]],[[-1,1,-2],[1,-3,-4]]) #Operator used in our Expectation Value function\n",
    "    \n",
    "    A_0 = np.random.rand(d,D_MPS) #Initial random tensor used to set the bond dimension of the MPS\n",
    "    \n",
    "    #First optimisation \n",
    "    #Contract into a matrix E\n",
    "    E_0 = ncon([MPO[0],A_0,np.conj(A_0),MPO[N]],[[1,2,3],[1,-1],[3,-3],[2,-2,-4]])\n",
    "    E = E_0.reshape(E_0.shape[0]*E_0.shape[1],E_0.shape[2]*E_0.shape[3])\n",
    "    #Solve eigenvalue equation for eigenvector with lowest eigenvalue\n",
    "    val,vec = eigsh(E, k=1, which='LM')\n",
    "    vec = vec.reshape(E_0.shape[0],E_0.shape[1])\n",
    "    #Polar decomposition to ensure U is Unitary\n",
    "    U_0,S,V_0 = np.linalg.svd(vec, full_matrices = False)\n",
    "    U[0] = ncon([U_0,V_0],[[-1,1],[1,-2]])\n",
    "    \n",
    "    #Building the Left end Right environment\n",
    "    L = ncon([A_0,np.conj(A_0),MPO[0]],[[1,-1],[2,-3],[1,-2,2]])\n",
    "    R = ncon([U[0],np.conj(U[0]),MPO[N]],[[-1,1],[-3,2],[-2,1,2]])\n",
    "    \n",
    "    #n-th optimisation\n",
    "    i = 1\n",
    "    while i < N :\n",
    "        #Contracting to the left\n",
    "        U[i] = Eigenvalue_Equation_Optimizer(MPO[i], L, R, alpha)\n",
    "        #Recording the energy\n",
    "        Energy.append(Expectation_Value_2site_operator(U[i], operator))\n",
    "        #Updating the left environment\n",
    "        L = ncon([L,U[i],np.conj(U[i]),MPO[i]],[[1,2,3],[1,4,-1],[3,5,-3],[2,4,-2,5]])\n",
    "        i = i + 1\n",
    "        \n",
    "        \n",
    "        #Contracting to the right\n",
    "        U[i] = Eigenvalue_Equation_Optimizer(MPO[i], L, R, alpha)\n",
    "        #Recording the energy\n",
    "        Energy.append(Expectation_Value_2site_operator(U[i], operator))\n",
    "        #Updating the right environment\n",
    "        R = ncon([R,U[i],np.conj(U[i]),MPO[i]],[[1,2,3],[-1,4,1],[-3,5,3],[-2,4,2,5]])\n",
    "        i = i + 1\n",
    "            \n",
    "    return Energy, U"
   ]
  },
  {
   "cell_type": "code",
   "execution_count": 24,
   "metadata": {
    "scrolled": false
   },
   "outputs": [
    {
     "data": {
      "image/png": "[encoded data removed]",
      "text/plain": [
       "<Figure size 432x288 with 1 Axes>"
      ]
     },
     "metadata": {
      "needs_background": "light"
     },
     "output_type": "display_data"
    },
    {
     "data": {
      "image/png": "[encoded data removed]",
      "text/plain": [
       "<Figure size 432x288 with 1 Axes>"
      ]
     },
     "metadata": {
      "needs_background": "light"
     },
     "output_type": "display_data"
    }
   ],
   "source": [
    "g = 0\n",
    "J = 1\n",
    "N = 5\n",
    "E0 = []\n",
    "E1 = []\n",
    "E2 = []\n",
    "while g < N + 0.25 :\n",
    "    f = lambda k,g : -2*np.sqrt(1+g**2-2*g*np.cos(k))/np.pi/2.\n",
    "    E0_exact = integrate.quad(f, 0, np.pi, args=(g,))[0]\n",
    "    E0.append(E0_exact)\n",
    "    \n",
    "    E, _ = DMRG_1site_eigensolver(100,W_Ising(J,g),4,-1)\n",
    "    E1.append(np.real(E[-1]))\n",
    "    \n",
    "    E2.append(abs((np.real(E[-1])-E0_exact)/np.real(E[-1])))\n",
    "    g = g + 0.25\n",
    "\n",
    "g = np.arange(0, N + 0.25, 0.25)\n",
    "plt.plot(g, E0, \"x\", label = \"Exact ground state energy\")\n",
    "plt.plot(g, E1, \"x\", label = \"Computed ground state energy\")\n",
    "plt.xlabel('g/J')\n",
    "plt.ylabel('Energy')\n",
    "plt.legend()\n",
    "plt.show()\n",
    "\n",
    "plt.plot(g, E2)\n",
    "plt.xlabel('g/J')\n",
    "plt.ylabel(r'$|E_{DMRG}-E_{exact}|$')\n",
    "plt.show()"
   ]
  },
  {
   "cell_type": "code",
   "execution_count": 27,
   "metadata": {},
   "outputs": [
    {
     "name": "stdout",
     "output_type": "stream",
     "text": [
      "-0.3122771771235577\n",
      "-0.3183098861837907\n",
      "0.00603270906023301\n"
     ]
    },
    {
     "data": {
      "image/png": "[encoded data removed]",
      "text/plain": [
       "<Figure size 432x288 with 1 Axes>"
      ]
     },
     "metadata": {
      "needs_background": "light"
     },
     "output_type": "display_data"
    }
   ],
   "source": [
    "E2, _ = DMRG_1site_eigensolver(100,W_XY(),4,-1)\n",
    "print(np.real(E2[-1]))\n",
    "print(-1/np.pi)\n",
    "print(abs(np.real(E2[-1])+1/np.pi))\n",
    "\n",
    "plt.plot(E2, label = r\"$E_{DMRG}$\")\n",
    "plt.axhline(y=-1/np.pi, color = \"r\", linestyle = \"--\", label = r\"$E_{Exact}$\")\n",
    "plt.ylim(-0.35,-0.15)\n",
    "plt.xlabel('Number of iterations (N)')\n",
    "plt.ylabel('Energy')\n",
    "plt.legend()\n",
    "plt.show()"
   ]
  },
  {
   "cell_type": "code",
   "execution_count": 29,
   "metadata": {},
   "outputs": [],
   "source": [
    "def Polar_Decomposition_Optimizer(U, W, L, R, alpha):\n",
    "    \"\"\"\"\"\n",
    "    Inputs :\n",
    "        U : Initial guess for the optimised tensor\n",
    "        W : MPO at one site\n",
    "        L : MPO left environment\n",
    "        R : MPO right environment\n",
    "        alpha : value used for spectrum shift\n",
    "    Outputs :\n",
    "        U_opt : Optimised tensor\n",
    "    \"\"\"\"\"\n",
    "    state_0 = np.zeros((2,1))\n",
    "    state_0[0,0] = 1\n",
    "    D_MPS = U.shape[0]\n",
    "    d = U.shape[1]\n",
    "    U_old = U\n",
    "    \n",
    "    for i in range(1, 2000):\n",
    "        #M = ncon([L,np.conj(U_old),R,W, state_0],[[1,2,-1],[1,3,4],[4,5,-3],[2,3,5,-2],[-4,-5]])\n",
    "        M = ncon([L,U_old,R,W, state_0],[[1,2,-1],[1,3,4],[4,5,-3],[2,3,5,-2],[-4,-5]])\n",
    "        M = M.reshape(D_MPS*d,D_MPS*d)\n",
    "        M = M + alpha*np.eye(d*D_MPS)\n",
    "        \n",
    "        U_opt, _ = polar(M)\n",
    "        U_opt = U_opt.reshape(D_MPS,d,D_MPS,d)\n",
    "        U_opt = ncon([U_opt, state_0],[[-1,1,-3,-2],[1,-4]])\n",
    "        U_opt = U_opt.reshape(D_MPS,d,D_MPS)\n",
    "        \n",
    "        if np.allclose(U_opt,U_old) == True :\n",
    "            np.allclose(ncon([U_opt,U_old],[[1,2,-1],[1,2,-2]]),np.eye(D_MPS))\n",
    "            break\n",
    "        else :\n",
    "            U_old = U_opt\n",
    "    return U_opt"
   ]
  },
  {
   "cell_type": "code",
   "execution_count": 30,
   "metadata": {},
   "outputs": [],
   "source": [
    "def DMRG_1site_polar(Nsites,W,D_MPS,alpha) :\n",
    "    \"\"\"\"\"\n",
    "    Inputs :\n",
    "        Nsites : Number of sites of the MPS (also the number of iteration)\n",
    "        W : MPO at one site\n",
    "        D_MPS : Desired bond dimension of translationnary invariant state\n",
    "        alpha : value used for spectrum shift\n",
    "    Outputs :\n",
    "        Energy : Array composed of the energy of the ground state after each iteration\n",
    "        U : Array composed of the translationnary invariant state after each iteration\n",
    "    \"\"\"\"\"\n",
    "    Energy = [] #Array recording the energy after each iteration\n",
    "    d = W.shape[1] #physical index\n",
    "    D_MPO = W.shape[0] #bond dimension of the MPO\n",
    "    N = Nsites - 1\n",
    "    U = [0 for x in range(N)] #Array recording our optimised state after each iteration\n",
    "    MPO = Nsite_MPO(W,Nsites) #Building the N-site MPO from W\n",
    "    \n",
    "    operator = ncon([MPO[0],MPO[N]],[[-1,1,-2],[1,-3,-4]]) #Operator used in our Expectation Value function\n",
    "    \n",
    "    #Initial random tensor used to set the bond dimension of the MPS\n",
    "    A_0 = np.random.rand(d,D_MPS)\n",
    "    \n",
    "    #First optimisation \n",
    "    #Contract into a matrix E\n",
    "    E_0 = ncon([MPO[0],A_0,np.conj(A_0),MPO[N]],[[1,2,3],[1,-1],[3,-3],[2,-2,-4]])\n",
    "    E = E_0.reshape(E_0.shape[0]*E_0.shape[1],E_0.shape[2]*E_0.shape[3])\n",
    "    #Solve eigenvalue equation for eigenvector with lowest eigenvalue\n",
    "    val,vec = eigsh(E, k=1, which='LM')\n",
    "    vec = vec.reshape(E_0.shape[0],E_0.shape[1])\n",
    "    #Polar decomposition to ensure U is Unitary\n",
    "    U_0,S,V_0 = np.linalg.svd(vec, full_matrices = False)\n",
    "    U[0] = ncon([U_0,V_0],[[-1,1],[1,-2]])\n",
    "    \n",
    "    #Building the Left end Right environment\n",
    "    L = ncon([A_0,np.conj(A_0),MPO[0]],[[1,-1],[2,-3],[1,-2,2]])\n",
    "    R = ncon([U[0],np.conj(U[0]),MPO[N]],[[-1,1],[-3,2],[-2,1,2]])\n",
    "    \n",
    "    #n-th optimisation\n",
    "    i = 1\n",
    "    U[i-1] = np.random.rand(D_MPS,d,D_MPS)\n",
    "    while i < N :\n",
    "        #Contracting to the left\n",
    "        U[i] = Polar_Decomposition_Optimizer(U[i-1], MPO[i], L, R, alpha)\n",
    "        #Recording the energy\n",
    "        Energy.append(Expectation_Value_2site_operator(U[i], operator))\n",
    "        #Updating the left environment\n",
    "        L = ncon([L,U[i],np.conj(U[i]),MPO[i]],[[1,2,3],[1,4,-1],[3,5,-3],[2,4,-2,5]])\n",
    "        i = i + 1\n",
    "        \n",
    "        \n",
    "        #Contracting to the right\n",
    "        U[i] = Polar_Decomposition_Optimizer(U[i-1], MPO[i], L, R, alpha)\n",
    "        #Recording the energy\n",
    "        Energy.append(Expectation_Value_2site_operator(U[i], operator))\n",
    "        #Updating the right environment\n",
    "        R = ncon([R,U[i],np.conj(U[i]),MPO[i]],[[1,2,3],[-1,4,1],[-3,5,3],[-2,4,2,5]])\n",
    "        i = i + 1\n",
    "            \n",
    "    return Energy, U"
   ]
  },
  {
   "cell_type": "code",
   "execution_count": 31,
   "metadata": {},
   "outputs": [
    {
     "name": "stdout",
     "output_type": "stream",
     "text": [
      "-0.24820168740727505 -4.062748051411006\n"
     ]
    },
    {
     "data": {
      "image/png": "[encoded data removed]",
      "text/plain": [
       "<Figure size 432x288 with 1 Axes>"
      ]
     },
     "metadata": {
      "needs_background": "light"
     },
     "output_type": "display_data"
    },
    {
     "name": "stdout",
     "output_type": "stream",
     "text": [
      "4.006273967958862e-18 -0.3183098861837907\n"
     ]
    },
    {
     "data": {
      "image/png": "[encoded data removed]",
      "text/plain": [
       "<Figure size 432x288 with 1 Axes>"
      ]
     },
     "metadata": {
      "needs_background": "light"
     },
     "output_type": "display_data"
    }
   ],
   "source": [
    "N = 100\n",
    "g = 4\n",
    "J = 1\n",
    "\n",
    "f = lambda k,g : -2*np.sqrt(1+g**2-2*g*np.cos(k))/np.pi/2.\n",
    "E0_exact_1 = integrate.quad(f, 0, np.pi, args=(g,))[0]\n",
    "E0_exact_2 = -1/np.pi\n",
    "\n",
    "E1, _ = DMRG_1site_polar(N,W_Ising(J,g),4,-1)\n",
    "print(np.real(E1[-1]),E0_exact_1)\n",
    "\n",
    "plt.plot(np.real(E1), label = r\"$E_{DMRG}$\")\n",
    "plt.axhline(y = E0_exact_1, color='r', linestyle='--', label = r\"$E_{Exact}$\")\n",
    "plt.xlabel('Number of iterations (N)')\n",
    "plt.ylabel('Energy')\n",
    "plt.legend()\n",
    "plt.show()\n",
    "\n",
    "E2, _ = DMRG_1site_polar(N,W_XY(),4,-1)\n",
    "print(np.real(E2[-1]),E0_exact_2)\n",
    "\n",
    "plt.plot(np.real(E2), label = r\"$E_{DMRG}$\")\n",
    "plt.axhline(y = E0_exact_2, color='r', linestyle='--', label = r\"$E_{Exact}$\")\n",
    "plt.xlabel('Number of iterations (N)')\n",
    "plt.ylabel('Energy')\n",
    "plt.legend()\n",
    "plt.show()"
   ]
  },
  {
   "cell_type": "code",
   "execution_count": null,
   "metadata": {},
   "outputs": [],
   "source": []
  }
 ],
 "metadata": {
  "kernelspec": {
   "display_name": "Python 3",
   "language": "python",
   "name": "python3"
  },
  "language_info": {
   "codemirror_mode": {
    "name": "ipython",
    "version": 3
   },
   "file_extension": ".py",
   "mimetype": "text/x-python",
   "name": "python",
   "nbconvert_exporter": "python",
   "pygments_lexer": "ipython3",
   "version": "3.8.3"
  }
 },
 "nbformat": 4,
 "nbformat_minor": 4
}
