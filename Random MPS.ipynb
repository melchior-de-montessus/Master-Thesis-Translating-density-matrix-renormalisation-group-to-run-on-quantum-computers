{
 "cells": [
  {
   "cell_type": "code",
   "execution_count": 1,
   "metadata": {},
   "outputs": [],
   "source": [
    "import numpy as np\n",
    "\n",
    "def Random_MPS(N,d,D) :\n",
    "    \"\"\"\"\"\n",
    "    MPS : tensor array\n",
    "    N : number of tensors in the MPS\n",
    "    d : physical dimension\n",
    "    D : Bond dimension\n",
    "    \"\"\"\"\"\n",
    "    MPS = []\n",
    "    MPS.append(np.random.rand(d,D))\n",
    "    for l in range(1,N-1):\n",
    "        MPS.append(np.random.rand(D,d,D))\n",
    "    MPS.append(np.random.rand(D,d))\n",
    "    return MPS"
   ]
  }
 ],
 "metadata": {
  "kernelspec": {
   "display_name": "Python 3",
   "language": "python",
   "name": "python3"
  },
  "language_info": {
   "codemirror_mode": {
    "name": "ipython",
    "version": 3
   },
   "file_extension": ".py",
   "mimetype": "text/x-python",
   "name": "python",
   "nbconvert_exporter": "python",
   "pygments_lexer": "ipython3",
   "version": "3.8.3"
  }
 },
 "nbformat": 4,
 "nbformat_minor": 4
}
