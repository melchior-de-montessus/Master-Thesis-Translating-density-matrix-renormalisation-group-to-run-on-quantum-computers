{
 "cells": [
  {
   "cell_type": "code",
   "execution_count": 6,
   "metadata": {},
   "outputs": [],
   "source": [
    "import numpy as np\n",
    "import matplotlib.pyplot as plt\n",
    "from scipy import integrate\n",
    "from ncon import ncon\n",
    "from scipy.linalg import polar\n",
    "from scipy.sparse.linalg import eigs\n",
    "from scipy.sparse.linalg import eigsh"
   ]
  },
  {
   "cell_type": "code",
   "execution_count": 7,
   "metadata": {},
   "outputs": [],
   "source": [
    "def W_Ising(J,g):\n",
    "    #Pauli and identity matrices \n",
    "    sx = 0.5*np.array([[0,1],[1,0]])  #Pauli x\n",
    "    sz = 0.5*np.array([[1,0],[0,-1]]) #Pauli z\n",
    "    I = np.eye(2)                     #Identity\n",
    "    \n",
    "    #Constructing the MPO at one site\n",
    "    W = np.zeros((3,2,3,2))\n",
    "    W[0,:,0,:] = I\n",
    "    W[1,:,0,:] = sz\n",
    "    W[2,:,0,:] = -g*sx\n",
    "    W[2,:,1,:] = -J*sz\n",
    "    W[2,:,2,:] = I\n",
    "    return W"
   ]
  },
  {
   "cell_type": "code",
   "execution_count": 12,
   "metadata": {},
   "outputs": [],
   "source": [
    "def W_XY():\n",
    "    #Spin-1/2 operators and the identity\n",
    "    su = np.array([[0,1],[0,0]])  #spin up\n",
    "    sd = np.array([[0,0],[1,0]])  #spin down\n",
    "    I = np.eye(2)                 #Identity\n",
    "\n",
    "    #Constructing the MPO at one site\n",
    "    W = np.zeros((4,2,4,2))\n",
    "    W[0,:,0,:] = I\n",
    "    W[1,:,0,:] = sd\n",
    "    W[2,:,0,:] = su\n",
    "    W[3,:,1,:] = -0.5*su\n",
    "    W[3,:,2,:] = -0.5*sd\n",
    "    W[3,:,3,:] = I\n",
    "    \n",
    "    return W"
   ]
  },
  {
   "cell_type": "code",
   "execution_count": 13,
   "metadata": {},
   "outputs": [],
   "source": [
    "def Transfer_Matrix_MPS(U) :\n",
    "    \n",
    "    #Computing the Right Environment\n",
    "    \"\"\"\"\"\n",
    "    _-1_ U _-3_ __             \n",
    "         |                      \n",
    "         1                      \n",
    "         |                   _ _1_   _3_ _\n",
    "         |                =  _ _2_ M _4_ _\n",
    "         |                      \n",
    "         1                      \n",
    "         |                      \n",
    "    _-2_ Uh _-4_ _             \n",
    "    \"\"\"\"\"\n",
    "    \n",
    "    Uh = np.conj(U)\n",
    "    \n",
    "    #Compute the transfer matrix\n",
    "    M = ncon([U,Uh],[[-1,1,-3],[-2,1,-4]])\n",
    "    E = M.reshape(M.shape[0]*M.shape[1],M.shape[2]*M.shape[3])\n",
    "    \n",
    "    #Solve the fixed-point equation\n",
    "    eigenvalue, eigenvector = eigs(E,k=1,which=\"LM\")\n",
    "    \n",
    "    #Determine R\n",
    "    R = eigenvector.reshape(M.shape[0],M.shape[1])\n",
    "    R = R/np.trace(R) #Trace normalised\n",
    "    \n",
    "    return R"
   ]
  },
  {
   "cell_type": "code",
   "execution_count": 36,
   "metadata": {},
   "outputs": [],
   "source": [
    "def Expectation_Value_Nsite_MPO(N,Unitary_MPS,W,R) :\n",
    "    \n",
    "    \"\"\"\"\"\n",
    "     _ _ _ _1_ U _-1_    _1_ N _-1_     _1_ U _5_ _ _ _       \n",
    "    |          |             |              |           |    \n",
    "    |          2             4              4           |\n",
    "    |          |             |              |           |  \n",
    "    |          2             4              4           5    \n",
    "    |          |             |              |           |             \n",
    "    |  <1|_4_ MPO_-2_    _2_ N _-2_     _2_MPO _8_|0>   R           \n",
    "    |          |             |              |           |   \n",
    "    |          3             5              6           7              \n",
    "    |          |             |              |           |             \n",
    "    |          3             5              6           |              \n",
    "    |          |             |              |           |   \n",
    "    |_ _ _ _1_ Uh_-3_    _3_ N _-3_     _3_ Uh _7_ _ _ _|     \n",
    "    \"\"\"\"\" \n",
    "    \n",
    "    U = Unitary_MPS\n",
    "    Uh = np.conj(U)\n",
    "    \n",
    "    #Construct the states on the boundary vector\n",
    "    D_MPO = W.shape[0] #Bond dimension of the MPO\n",
    "    state_0 = np.zeros((D_MPO,1))\n",
    "    state_0[0,0] = 1\n",
    "    state_1 = np.zeros((D_MPO,1))\n",
    "    state_1[D_MPO-1,0] = 1\n",
    "    \n",
    "    i = 0\n",
    "    while i < N :\n",
    "        if i == 0 :\n",
    "            EV = ncon([U,Uh,W,state_1.T],[[1,2,-1],[1,3,-3],[4,2,-2,3],[-4,4]])\n",
    "            EV = EV.reshape(EV.shape[0],EV.shape[1],EV.shape[2])\n",
    "            i = i + 1\n",
    "            \n",
    "        if i == N-1 :\n",
    "            EV = ncon([EV,U,Uh,W,state_0,R],[[1,2,3],[1,4,5],[3,6,7],[2,4,8,6],[8,-1],[5,7]])\n",
    "            EV = EV[0]\n",
    "            i = i + 1\n",
    "        \n",
    "        else :\n",
    "            EV = ncon([EV,U,Uh,W],[[1,2,3],[1,4,-1],[3,5,-3],[2,4,-2,5]])\n",
    "            i = i + 1\n",
    "        \n",
    "    return EV"
   ]
  },
  {
   "cell_type": "code",
   "execution_count": 50,
   "metadata": {},
   "outputs": [
    {
     "data": {
      "image/png": "[encoded data removed]",
      "text/plain": [
       "<Figure size 432x288 with 1 Axes>"
      ]
     },
     "metadata": {
      "needs_background": "light"
     },
     "output_type": "display_data"
    }
   ],
   "source": [
    "d = 2\n",
    "D_MPS = 20\n",
    "W_1 = W_Ising(2,0)\n",
    "W_2 = W_XY()\n",
    "\n",
    "U = polar(np.random.rand(d*D_MPS,D_MPS))[0].reshape(D_MPS,d,D_MPS)\n",
    "R = Transfer_Matrix_MPS(U)\n",
    "test_1 = np.real(Expectation_Value_Nsite_MPO(2,U,W_1,R))\n",
    "test_2 = np.real(Expectation_Value_Nsite_MPO(2,U,W_2,R))\n",
    "x_1 = []\n",
    "x_2 = []\n",
    "x_3 = []\n",
    "\n",
    "y_1 = []\n",
    "y_2 = []\n",
    "y_3 = []\n",
    "\n",
    "for i in range (2,100):\n",
    "    x_1.append(np.real(Expectation_Value_Nsite_MPO(i,U,W_1,R)))\n",
    "    x_2.append((i-1)*test_1)\n",
    "    x_3.append(abs(x_1[i-2]-x_2[i-2]))\n",
    "    \n",
    "    y_1.append(np.real(Expectation_Value_Nsite_MPO(i,U,W_2,R)))\n",
    "    y_2.append((i-1)*test_2)\n",
    "    y_3.append(abs(y_1[i-2]-y_2[i-2]))\n",
    "\n",
    "plt.plot(x_3, label = \"Tranverse Ising model\")\n",
    "plt.plot(y_3, label = \"XY model\")\n",
    "plt.legend()\n",
    "plt.xlabel('Number of iterations (N)')\n",
    "plt.ylabel(r'$|<H_N>-(N-1)<H_2>|$')\n",
    "plt.show()"
   ]
  },
  {
   "cell_type": "code",
   "execution_count": null,
   "metadata": {},
   "outputs": [],
   "source": []
  }
 ],
 "metadata": {
  "kernelspec": {
   "display_name": "Python 3",
   "language": "python",
   "name": "python3"
  },
  "language_info": {
   "codemirror_mode": {
    "name": "ipython",
    "version": 3
   },
   "file_extension": ".py",
   "mimetype": "text/x-python",
   "name": "python",
   "nbconvert_exporter": "python",
   "pygments_lexer": "ipython3",
   "version": "3.8.3"
  }
 },
 "nbformat": 4,
 "nbformat_minor": 4
}
